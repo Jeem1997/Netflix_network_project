{
  "nbformat": 4,
  "nbformat_minor": 0,
  "metadata": {
    "colab": {
      "provenance": []
    },
    "kernelspec": {
      "name": "python3",
      "display_name": "Python 3"
    },
    "language_info": {
      "name": "python"
    }
  },
  "cells": [
    {
      "cell_type": "code",
      "execution_count": 1,
      "metadata": {
        "id": "fh8oUypP686-"
      },
      "outputs": [],
      "source": [
        "import pandas as pd\n",
        "import matplotlib.pyplot as plt\n",
        "import numpy as np\n",
        "import scipy as sp\n",
        "import networkx as nx"
      ]
    },
    {
      "cell_type": "code",
      "source": [
        "def get_netflix_data():\n",
        "  netflix_data = pd.read_csv(\"netflix_titles.csv\")\n",
        "  netflix_data['date_added'] = pd.to_datetime(netflix_data['date_added'])\n",
        "  \n",
        "  return netflix_data"
      ],
      "metadata": {
        "id": "1Rz6-9fk7elB"
      },
      "execution_count": 2,
      "outputs": []
    },
    {
      "cell_type": "markdown",
      "source": [
        "**Problem 1**"
      ],
      "metadata": {
        "id": "KhWWY0Mm-Yni"
      }
    },
    {
      "cell_type": "code",
      "source": [
        "netflix_data = get_netflix_data()\n",
        "#reading just the titles which type is movie\n",
        "movies = netflix_data[netflix_data['type']== 'Movie']\n",
        "\n",
        "#converting movie durations into integer for the histogram and also replacing \"nan\" values with \"0\"\n",
        "#below code inspired from kaggle.\n",
        "movies['duration'] = movies['duration'].fillna('0')\n",
        "movies['duration'] = movies['duration'].str.split(' ').str[0].astype(int)\n",
        "\n",
        "plt.hist(movies['duration'])\n",
        "plt.xlabel('duration (in minutes)')\n",
        "plt.ylabel('movie amount')\n",
        "plt.show()"
      ],
      "metadata": {
        "colab": {
          "base_uri": "https://localhost:8080/",
          "height": 657
        },
        "id": "Mtq2i_-j_j1N",
        "outputId": "6ae3143e-00d8-4b36-914f-8a91d166f0be"
      },
      "execution_count": 3,
      "outputs": [
        {
          "output_type": "stream",
          "name": "stderr",
          "text": [
            "<ipython-input-3-d9dc29b7f031>:7: SettingWithCopyWarning: \n",
            "A value is trying to be set on a copy of a slice from a DataFrame.\n",
            "Try using .loc[row_indexer,col_indexer] = value instead\n",
            "\n",
            "See the caveats in the documentation: https://pandas.pydata.org/pandas-docs/stable/user_guide/indexing.html#returning-a-view-versus-a-copy\n",
            "  movies['duration'] = movies['duration'].fillna('0')\n",
            "<ipython-input-3-d9dc29b7f031>:8: SettingWithCopyWarning: \n",
            "A value is trying to be set on a copy of a slice from a DataFrame.\n",
            "Try using .loc[row_indexer,col_indexer] = value instead\n",
            "\n",
            "See the caveats in the documentation: https://pandas.pydata.org/pandas-docs/stable/user_guide/indexing.html#returning-a-view-versus-a-copy\n",
            "  movies['duration'] = movies['duration'].str.split(' ').str[0].astype(int)\n"
          ]
        },
        {
          "output_type": "display_data",
          "data": {
            "text/plain": [
              "<Figure size 640x480 with 1 Axes>"
            ],
            "image/png": "[encoded data removed]"
          },
          "metadata": {}
        }
      ]
    },
    {
      "cell_type": "markdown",
      "source": [
        "**Problem 2**"
      ],
      "metadata": {
        "id": "diTlI_Lv-tG8"
      }
    },
    {
      "cell_type": "code",
      "source": [
        "#check what types of ratings there are before replacing them with numericals.\n",
        "print(movies.rating.unique())"
      ],
      "metadata": {
        "id": "ydsrqxweQMcs",
        "colab": {
          "base_uri": "https://localhost:8080/"
        },
        "outputId": "18153aea-c8bd-470c-98d1-6f281ed2a875"
      },
      "execution_count": 39,
      "outputs": [
        {
          "output_type": "stream",
          "name": "stdout",
          "text": [
            "[13  7 18 14  3 17  1  0]\n"
          ]
        }
      ]
    },
    {
      "cell_type": "code",
      "source": [
        "#changing movie ratings to approximated age values and also changed unsuitable values as blank\n",
        "#this needs to be run twice for some reason since it throws an error on the first run\n",
        "movies['rating'] = movies['rating'].str.replace('74 min', '0')\n",
        "movies['rating'] = movies['rating'].str.replace('84 min', '0')\n",
        "movies['rating'] = movies['rating'].str.replace('66 min', '0')\n",
        "movies['rating'] = movies['rating'].fillna('0')\n",
        "movies['rating'] = movies['rating'].str.replace('NR', '1')\n",
        "movies['rating'] = movies['rating'].str.replace('NC-17', '18')\n",
        "movies['rating'] = movies['rating'].str.replace('N17', '18')\n",
        "movies['rating'] = movies['rating'].str.replace('U17', '18')\n",
        "movies['rating'] = movies['rating'].str.replace('PG-13', '13')\n",
        "movies['rating'] = movies['rating'].str.replace('PG', '7')\n",
        "movies['rating'] = movies['rating'].str.replace('TV-MA', '18')\n",
        "movies['rating'] = movies['rating'].str.replace('TV-Y7-FV', '7')\n",
        "movies['rating'] = movies['rating'].str.replace('TV-Y7', '7')\n",
        "movies['rating'] = movies['rating'].str.replace('TV-7', '7')\n",
        "movies['rating'] = movies['rating'].str.replace('TV-Y', '3')\n",
        "movies['rating'] = movies['rating'].str.replace('TV-G', '1')\n",
        "movies['rating'] = movies['rating'].str.replace('G', '1')\n",
        "movies['rating'] = movies['rating'].str.replace('TV-14', '14')\n",
        "movies['rating'] = movies['rating'].str.replace('R', '17')\n",
        "\n",
        "movies['rating'] = movies['rating'].astype(int)"
      ],
      "metadata": {
        "id": "BY-_caW_FjDa",
        "colab": {
          "base_uri": "https://localhost:8080/"
        },
        "outputId": "e650012d-387b-4dcc-8f31-0c506e8ba774"
      },
      "execution_count": 38,
      "outputs": [
        {
          "output_type": "stream",
          "name": "stderr",
          "text": [
            "<ipython-input-38-e43540efba0f>:3: SettingWithCopyWarning: \n",
            "A value is trying to be set on a copy of a slice from a DataFrame.\n",
            "Try using .loc[row_indexer,col_indexer] = value instead\n",
            "\n",
            "See the caveats in the documentation: https://pandas.pydata.org/pandas-docs/stable/user_guide/indexing.html#returning-a-view-versus-a-copy\n",
            "  movies['rating'] = movies['rating'].str.replace('74 min', '0')\n",
            "<ipython-input-38-e43540efba0f>:4: SettingWithCopyWarning: \n",
            "A value is trying to be set on a copy of a slice from a DataFrame.\n",
            "Try using .loc[row_indexer,col_indexer] = value instead\n",
            "\n",
            "See the caveats in the documentation: https://pandas.pydata.org/pandas-docs/stable/user_guide/indexing.html#returning-a-view-versus-a-copy\n",
            "  movies['rating'] = movies['rating'].str.replace('84 min', '0')\n",
            "<ipython-input-38-e43540efba0f>:5: SettingWithCopyWarning: \n",
            "A value is trying to be set on a copy of a slice from a DataFrame.\n",
            "Try using .loc[row_indexer,col_indexer] = value instead\n",
            "\n",
            "See the caveats in the documentation: https://pandas.pydata.org/pandas-docs/stable/user_guide/indexing.html#returning-a-view-versus-a-copy\n",
            "  movies['rating'] = movies['rating'].str.replace('66 min', '0')\n",
            "<ipython-input-38-e43540efba0f>:6: SettingWithCopyWarning: \n",
            "A value is trying to be set on a copy of a slice from a DataFrame.\n",
            "Try using .loc[row_indexer,col_indexer] = value instead\n",
            "\n",
            "See the caveats in the documentation: https://pandas.pydata.org/pandas-docs/stable/user_guide/indexing.html#returning-a-view-versus-a-copy\n",
            "  movies['rating'] = movies['rating'].fillna('0')\n",
            "<ipython-input-38-e43540efba0f>:7: SettingWithCopyWarning: \n",
            "A value is trying to be set on a copy of a slice from a DataFrame.\n",
            "Try using .loc[row_indexer,col_indexer] = value instead\n",
            "\n",
            "See the caveats in the documentation: https://pandas.pydata.org/pandas-docs/stable/user_guide/indexing.html#returning-a-view-versus-a-copy\n",
            "  movies['rating'] = movies['rating'].str.replace('NR', '1')\n",
            "<ipython-input-38-e43540efba0f>:8: SettingWithCopyWarning: \n",
            "A value is trying to be set on a copy of a slice from a DataFrame.\n",
            "Try using .loc[row_indexer,col_indexer] = value instead\n",
            "\n",
            "See the caveats in the documentation: https://pandas.pydata.org/pandas-docs/stable/user_guide/indexing.html#returning-a-view-versus-a-copy\n",
            "  movies['rating'] = movies['rating'].str.replace('NC-17', '18')\n",
            "<ipython-input-38-e43540efba0f>:9: SettingWithCopyWarning: \n",
            "A value is trying to be set on a copy of a slice from a DataFrame.\n",
            "Try using .loc[row_indexer,col_indexer] = value instead\n",
            "\n",
            "See the caveats in the documentation: https://pandas.pydata.org/pandas-docs/stable/user_guide/indexing.html#returning-a-view-versus-a-copy\n",
            "  movies['rating'] = movies['rating'].str.replace('N17', '18')\n",
            "<ipython-input-38-e43540efba0f>:10: SettingWithCopyWarning: \n",
            "A value is trying to be set on a copy of a slice from a DataFrame.\n",
            "Try using .loc[row_indexer,col_indexer] = value instead\n",
            "\n",
            "See the caveats in the documentation: https://pandas.pydata.org/pandas-docs/stable/user_guide/indexing.html#returning-a-view-versus-a-copy\n",
            "  movies['rating'] = movies['rating'].str.replace('U17', '18')\n",
            "<ipython-input-38-e43540efba0f>:11: SettingWithCopyWarning: \n",
            "A value is trying to be set on a copy of a slice from a DataFrame.\n",
            "Try using .loc[row_indexer,col_indexer] = value instead\n",
            "\n",
            "See the caveats in the documentation: https://pandas.pydata.org/pandas-docs/stable/user_guide/indexing.html#returning-a-view-versus-a-copy\n",
            "  movies['rating'] = movies['rating'].str.replace('PG-13', '13')\n",
            "<ipython-input-38-e43540efba0f>:12: SettingWithCopyWarning: \n",
            "A value is trying to be set on a copy of a slice from a DataFrame.\n",
            "Try using .loc[row_indexer,col_indexer] = value instead\n",
            "\n",
            "See the caveats in the documentation: https://pandas.pydata.org/pandas-docs/stable/user_guide/indexing.html#returning-a-view-versus-a-copy\n",
            "  movies['rating'] = movies['rating'].str.replace('PG', '7')\n",
            "<ipython-input-38-e43540efba0f>:13: SettingWithCopyWarning: \n",
            "A value is trying to be set on a copy of a slice from a DataFrame.\n",
            "Try using .loc[row_indexer,col_indexer] = value instead\n",
            "\n",
            "See the caveats in the documentation: https://pandas.pydata.org/pandas-docs/stable/user_guide/indexing.html#returning-a-view-versus-a-copy\n",
            "  movies['rating'] = movies['rating'].str.replace('TV-MA', '18')\n",
            "<ipython-input-38-e43540efba0f>:14: SettingWithCopyWarning: \n",
            "A value is trying to be set on a copy of a slice from a DataFrame.\n",
            "Try using .loc[row_indexer,col_indexer] = value instead\n",
            "\n",
            "See the caveats in the documentation: https://pandas.pydata.org/pandas-docs/stable/user_guide/indexing.html#returning-a-view-versus-a-copy\n",
            "  movies['rating'] = movies['rating'].str.replace('TV-Y7-FV', '7')\n",
            "<ipython-input-38-e43540efba0f>:15: SettingWithCopyWarning: \n",
            "A value is trying to be set on a copy of a slice from a DataFrame.\n",
            "Try using .loc[row_indexer,col_indexer] = value instead\n",
            "\n",
            "See the caveats in the documentation: https://pandas.pydata.org/pandas-docs/stable/user_guide/indexing.html#returning-a-view-versus-a-copy\n",
            "  movies['rating'] = movies['rating'].str.replace('TV-Y7', '7')\n",
            "<ipython-input-38-e43540efba0f>:16: SettingWithCopyWarning: \n",
            "A value is trying to be set on a copy of a slice from a DataFrame.\n",
            "Try using .loc[row_indexer,col_indexer] = value instead\n",
            "\n",
            "See the caveats in the documentation: https://pandas.pydata.org/pandas-docs/stable/user_guide/indexing.html#returning-a-view-versus-a-copy\n",
            "  movies['rating'] = movies['rating'].str.replace('TV-7', '7')\n",
            "<ipython-input-38-e43540efba0f>:17: SettingWithCopyWarning: \n",
            "A value is trying to be set on a copy of a slice from a DataFrame.\n",
            "Try using .loc[row_indexer,col_indexer] = value instead\n",
            "\n",
            "See the caveats in the documentation: https://pandas.pydata.org/pandas-docs/stable/user_guide/indexing.html#returning-a-view-versus-a-copy\n",
            "  movies['rating'] = movies['rating'].str.replace('TV-Y', '3')\n",
            "<ipython-input-38-e43540efba0f>:18: SettingWithCopyWarning: \n",
            "A value is trying to be set on a copy of a slice from a DataFrame.\n",
            "Try using .loc[row_indexer,col_indexer] = value instead\n",
            "\n",
            "See the caveats in the documentation: https://pandas.pydata.org/pandas-docs/stable/user_guide/indexing.html#returning-a-view-versus-a-copy\n",
            "  movies['rating'] = movies['rating'].str.replace('TV-G', '1')\n",
            "<ipython-input-38-e43540efba0f>:19: SettingWithCopyWarning: \n",
            "A value is trying to be set on a copy of a slice from a DataFrame.\n",
            "Try using .loc[row_indexer,col_indexer] = value instead\n",
            "\n",
            "See the caveats in the documentation: https://pandas.pydata.org/pandas-docs/stable/user_guide/indexing.html#returning-a-view-versus-a-copy\n",
            "  movies['rating'] = movies['rating'].str.replace('G', '1')\n",
            "<ipython-input-38-e43540efba0f>:20: SettingWithCopyWarning: \n",
            "A value is trying to be set on a copy of a slice from a DataFrame.\n",
            "Try using .loc[row_indexer,col_indexer] = value instead\n",
            "\n",
            "See the caveats in the documentation: https://pandas.pydata.org/pandas-docs/stable/user_guide/indexing.html#returning-a-view-versus-a-copy\n",
            "  movies['rating'] = movies['rating'].str.replace('TV-14', '14')\n",
            "<ipython-input-38-e43540efba0f>:21: SettingWithCopyWarning: \n",
            "A value is trying to be set on a copy of a slice from a DataFrame.\n",
            "Try using .loc[row_indexer,col_indexer] = value instead\n",
            "\n",
            "See the caveats in the documentation: https://pandas.pydata.org/pandas-docs/stable/user_guide/indexing.html#returning-a-view-versus-a-copy\n",
            "  movies['rating'] = movies['rating'].str.replace('R', '17')\n",
            "<ipython-input-38-e43540efba0f>:23: SettingWithCopyWarning: \n",
            "A value is trying to be set on a copy of a slice from a DataFrame.\n",
            "Try using .loc[row_indexer,col_indexer] = value instead\n",
            "\n",
            "See the caveats in the documentation: https://pandas.pydata.org/pandas-docs/stable/user_guide/indexing.html#returning-a-view-versus-a-copy\n",
            "  movies['rating'] = movies['rating'].astype(int)\n"
          ]
        }
      ]
    },
    {
      "cell_type": "code",
      "source": [
        "#Calculating pearson correlation and p-value between movie rating and movie duration.\n",
        "sp.stats.pearsonr(movies['rating'], movies['duration'])"
      ],
      "metadata": {
        "id": "Gq0Pq5HlUPku",
        "colab": {
          "base_uri": "https://localhost:8080/"
        },
        "outputId": "d1126bd5-9d74-4e63-873c-1fcff397ffce"
      },
      "execution_count": 7,
      "outputs": [
        {
          "output_type": "execute_result",
          "data": {
            "text/plain": [
              "PearsonRResult(statistic=0.18646373768412655, pvalue=4.350788450531765e-49)"
            ]
          },
          "metadata": {},
          "execution_count": 7
        }
      ]
    },
    {
      "cell_type": "markdown",
      "source": [
        "**Problem 3**"
      ],
      "metadata": {
        "id": "L2zb0Ic2_Erk"
      }
    },
    {
      "cell_type": "code",
      "source": [
        "netflix_data['cast'] = netflix_data['cast'].fillna('No Actors')\n",
        "movies = netflix_data[netflix_data['type'] == 'Movie']"
      ],
      "metadata": {
        "id": "of82x5fN6wBK"
      },
      "execution_count": 8,
      "outputs": []
    },
    {
      "cell_type": "code",
      "source": [
        "print(movies['cast'])"
      ],
      "metadata": {
        "colab": {
          "base_uri": "https://localhost:8080/"
        },
        "id": "lJ_JVIaC-Bms",
        "outputId": "91af94d3-5f6d-4806-8ea3-53c3eeaffc9d"
      },
      "execution_count": 9,
      "outputs": [
        {
          "output_type": "stream",
          "name": "stdout",
          "text": [
            "0                                               No Actors\n",
            "6       Vanessa Hudgens, Kimiko Glenn, James Marsden, ...\n",
            "7       Kofi Ghanaba, Oyafunmike Ogunlano, Alexandra D...\n",
            "9       Melissa McCarthy, Chris O'Dowd, Kevin Kline, T...\n",
            "12      Luna Wedler, Jannis Niewöhner, Milan Peschel, ...\n",
            "                              ...                        \n",
            "8801    Ali Suliman, Saleh Bakri, Yasa, Ali Al-Jabri, ...\n",
            "8802    Mark Ruffalo, Jake Gyllenhaal, Robert Downey J...\n",
            "8804    Jesse Eisenberg, Woody Harrelson, Emma Stone, ...\n",
            "8805    Tim Allen, Courteney Cox, Chevy Chase, Kate Ma...\n",
            "8806    Vicky Kaushal, Sarah-Jane Dias, Raaghav Chanan...\n",
            "Name: cast, Length: 6131, dtype: object\n"
          ]
        }
      ]
    },
    {
      "cell_type": "code",
      "source": [
        "def weight_between_nodes(movie1, movie2):\n",
        "  movie_cast = netflix_data.at[netflix_data.index[movie1], 'cast']\n",
        "  movie_cast1 = netflix_data.at[netflix_data.index[movie2], 'cast']\n",
        "  \n",
        "  movie_casts = []\n",
        "  for actor in movie_cast.strip().split(','):\n",
        "    movie_casts.append(actor)\n",
        "  for actor in movie_cast1.strip().split(','):\n",
        "    movie_casts.append(actor)\n",
        "\n",
        "  common_actors = {i:movie_casts.count(i) for i in movie_casts}\n",
        "  weight = 0\n",
        "  for actor, i in common_actors.items():\n",
        "    if i > 1:\n",
        "      weight = weight + 1\n",
        "  return weight"
      ],
      "metadata": {
        "id": "Y6zy8hzYo2FB"
      },
      "execution_count": 10,
      "outputs": []
    },
    {
      "cell_type": "code",
      "source": [
        "G = nx.Graph()\n",
        "for i, rowi in movies.iterrows():\n",
        "  G.add_node(i)"
      ],
      "metadata": {
        "id": "1K2DxiRIxPX_"
      },
      "execution_count": 11,
      "outputs": []
    },
    {
      "cell_type": "code",
      "source": [
        "nodes = []\n",
        "for node in G.nodes():\n",
        "  if node == node:\n",
        "    nodes.append(node)\n",
        "#later noticed there is bug with these two nodes for some reason...\n",
        "G.remove_node(nodes[1061])\n",
        "G.remove_node(nodes[3906])\n",
        "nodes = []\n",
        "for node in G.nodes():\n",
        "  if node == node:\n",
        "    nodes.append(node)"
      ],
      "metadata": {
        "id": "DpDhm9HL4QTJ"
      },
      "execution_count": 12,
      "outputs": []
    },
    {
      "cell_type": "code",
      "source": [
        "#loop for adding edged to nodes with common actors, if there is no common actors there is no edge\n",
        "# WARNING!!! this loop section takes long time to execute took me 13 minutes!!!\n",
        "for i in range(len(nodes)):\n",
        "  for j in range(len(nodes)):\n",
        "    if nodes[i] != nodes[j]:\n",
        "      if (G.has_edge(nodes[i], nodes[j]) or G.has_edge(nodes[j], nodes[i]))  == False:\n",
        "        w = weight_between_nodes(nodes[i], nodes[j])\n",
        "        if w > 0:\n",
        "          G.add_edge(nodes[i], nodes[j], weight=w)"
      ],
      "metadata": {
        "id": "u2UdZcw2AJku"
      },
      "execution_count": 14,
      "outputs": []
    },
    {
      "cell_type": "code",
      "source": [
        "#drawing the unusable graph due to the size.\n",
        "nx.draw(G)"
      ],
      "metadata": {
        "colab": {
          "base_uri": "https://localhost:8080/",
          "height": 516
        },
        "id": "VC1dBPomBdKL",
        "outputId": "90714de8-d2da-4dab-b326-5da6528cfa16"
      },
      "execution_count": 15,
      "outputs": [
        {
          "output_type": "display_data",
          "data": {
            "text/plain": [
              "<Figure size 640x480 with 1 Axes>"
            ],
            "image/png": "[encoded data removed]"
          },
          "metadata": {}
        }
      ]
    },
    {
      "cell_type": "code",
      "source": [
        "len(G.nodes)"
      ],
      "metadata": {
        "colab": {
          "base_uri": "https://localhost:8080/"
        },
        "id": "j4fqZtKYVnZl",
        "outputId": "2553f2f9-0926-42ec-828c-31c00fde5ef3"
      },
      "execution_count": 16,
      "outputs": [
        {
          "output_type": "execute_result",
          "data": {
            "text/plain": [
              "6129"
            ]
          },
          "metadata": {},
          "execution_count": 16
        }
      ]
    },
    {
      "cell_type": "code",
      "source": [
        "netflix_data.at[netflix_data.index[nodes[8]], 'title']"
      ],
      "metadata": {
        "colab": {
          "base_uri": "https://localhost:8080/",
          "height": 35
        },
        "id": "g0dSGbqBVzX-",
        "outputId": "692a8b20-ddf0-47ca-c9f2-5ae7301e29c1"
      },
      "execution_count": 17,
      "outputs": [
        {
          "output_type": "execute_result",
          "data": {
            "text/plain": [
              "'Avvai Shanmughi'"
            ],
            "application/vnd.google.colaboratory.intrinsic+json": {
              "type": "string"
            }
          },
          "metadata": {},
          "execution_count": 17
        }
      ]
    },
    {
      "cell_type": "code",
      "source": [
        "sub_G = nx.Graph()"
      ],
      "metadata": {
        "id": "jkd2lFOaTVNH"
      },
      "execution_count": 18,
      "outputs": []
    },
    {
      "cell_type": "code",
      "source": [
        "for n, m in G.edges(nodes[8]):\n",
        "  edge_data = G.get_edge_data(n, m)\n",
        "  sub_G.add_edge(n, m, weight = edge_data['weight'])"
      ],
      "metadata": {
        "id": "gpBzQqXDSzdB"
      },
      "execution_count": 19,
      "outputs": []
    },
    {
      "cell_type": "code",
      "source": [
        "nx.draw(sub_G, with_labels=True)\n",
        "nx.draw_networkx_edge_labels(sub_G, nx.spring_layout(sub_G), edge_labels=nx.get_edge_attributes(sub_G, 'weight'))"
      ],
      "metadata": {
        "colab": {
          "base_uri": "https://localhost:8080/",
          "height": 742
        },
        "id": "ZERCMql-VSHk",
        "outputId": "bb9b36ba-bfc5-4678-af78-040444c5de60"
      },
      "execution_count": 20,
      "outputs": [
        {
          "output_type": "execute_result",
          "data": {
            "text/plain": [
              "{(22, 24): Text(-0.2791625349876906, 0.38262288872239475, '1'),\n",
              " (22, 26): Text(0.059879610608069775, -0.20681372690317026, '2'),\n",
              " (22, 3530): Text(0.44781060815128065, 0.10070628253746994, '1'),\n",
              " (22, 3975): Text(-0.06682740907316014, 0.48241773475032257, '1'),\n",
              " (22, 4481): Text(-0.48903631581884155, -0.025334833572262412, '1'),\n",
              " (22, 5334): Text(0.049826759026439134, -0.4981075858839256, '1'),\n",
              " (22, 5335): Text(-0.3983232845381439, -0.24867999452513537, '1'),\n",
              " (22, 5336): Text(-0.4375543955147571, 0.21081105988821744, '1'),\n",
              " (22, 5337): Text(0.16526732826390667, 0.4447481939675126, '1'),\n",
              " (22, 5338): Text(0.3238962226094899, -0.3678896912247019, '1'),\n",
              " (22, 5339): Text(-0.22782097975115198, -0.43573702456673497, '1'),\n",
              " (22, 7162): Text(0.4733392844801428, -0.1422086155441799, '1'),\n",
              " (22, 7917): Text(0.3715330959618547, 0.32617428174708496, '1')}"
            ]
          },
          "metadata": {},
          "execution_count": 20
        },
        {
          "output_type": "display_data",
          "data": {
            "text/plain": [
              "<Figure size 640x480 with 1 Axes>"
            ],
            "image/png": "[encoded data removed]"
          },
          "metadata": {}
        }
      ]
    },
    {
      "cell_type": "code",
      "source": [
        "print(netflix_data.at[netflix_data.index[22], 'title'])\n",
        "print(netflix_data.at[netflix_data.index[24], 'title'])\n",
        "print(netflix_data.at[netflix_data.index[26], 'title'])\n",
        "print(netflix_data.at[netflix_data.index[3530], 'title'])\n",
        "print(netflix_data.at[netflix_data.index[3975], 'title'])\n",
        "print(netflix_data.at[netflix_data.index[4481], 'title'])\n",
        "print(netflix_data.at[netflix_data.index[5334], 'title'])\n",
        "print(netflix_data.at[netflix_data.index[5335], 'title'])\n",
        "print(netflix_data.at[netflix_data.index[5336], 'title'])\n",
        "print(netflix_data.at[netflix_data.index[5337], 'title'])\n",
        "print(netflix_data.at[netflix_data.index[5338], 'title'])\n",
        "print(netflix_data.at[netflix_data.index[5339], 'title'])\n",
        "print(netflix_data.at[netflix_data.index[6013], 'title'])\n",
        "print(netflix_data.at[netflix_data.index[7162], 'title'])\n",
        "print(netflix_data.at[netflix_data.index[7917], 'title'])"
      ],
      "metadata": {
        "colab": {
          "base_uri": "https://localhost:8080/"
        },
        "id": "rt7XYYxUabId",
        "outputId": "95dce813-e7c0-486d-dfb4-c0d6a7e5396d"
      },
      "execution_count": 21,
      "outputs": [
        {
          "output_type": "stream",
          "name": "stdout",
          "text": [
            "Avvai Shanmughi\n",
            "Jeans\n",
            "Minsara Kanavu\n",
            "Article 15\n",
            "Sei\n",
            "Baahubali: The Beginning (English Version)\n",
            "Baahubali 2: The Conclusion (Hindi Version)\n",
            "Baahubali 2: The Conclusion (Malayalam Version)\n",
            "Baahubali 2: The Conclusion (Tamil Version)\n",
            "Baahubali: The Beginning (Hindi Version)\n",
            "Baahubali: The Beginning (Malayalam Version)\n",
            "Baahubali: The Beginning (Tamil Version)\n",
            "300 Miles to Heaven\n",
            "Kabali (Hindi Version)\n",
            "Sadma\n"
          ]
        }
      ]
    },
    {
      "cell_type": "markdown",
      "source": [
        "**problem 4**"
      ],
      "metadata": {
        "id": "RMWIzkthddCO"
      }
    },
    {
      "cell_type": "code",
      "source": [
        "#number of singleton nodes\n",
        "print(len(list(nx.isolates(G))))"
      ],
      "metadata": {
        "colab": {
          "base_uri": "https://localhost:8080/"
        },
        "id": "gFAv_x1vhc0o",
        "outputId": "af83beb3-ec63-4c5f-ea83-2db37de6ae39"
      },
      "execution_count": 22,
      "outputs": [
        {
          "output_type": "stream",
          "name": "stdout",
          "text": [
            "803\n"
          ]
        }
      ]
    },
    {
      "cell_type": "code",
      "source": [
        "#largest component\n",
        "Gcc = sorted(nx.connected_components(G), key=len, reverse=True)\n",
        "G0 = G.subgraph(Gcc[0])\n",
        "print(G0)"
      ],
      "metadata": {
        "colab": {
          "base_uri": "https://localhost:8080/"
        },
        "id": "SC2dhU-YiDmf",
        "outputId": "9ef70ba4-cb56-4aa7-b690-5eec04099ccd"
      },
      "execution_count": 23,
      "outputs": [
        {
          "output_type": "stream",
          "name": "stdout",
          "text": [
            "Graph with 4483 nodes and 38225 edges\n"
          ]
        }
      ]
    },
    {
      "cell_type": "code",
      "source": [
        "#number of components and their sizes\n",
        "n_components = nx.number_connected_components(G)\n",
        "print(\"number of components:\", n_components)\n",
        "\n",
        "for component in nx.connected_components(G):\n",
        "    print(len(component))"
      ],
      "metadata": {
        "id": "BBwfWxbwrYYj"
      },
      "execution_count": null,
      "outputs": []
    },
    {
      "cell_type": "code",
      "source": [
        "#diameter of the network\n",
        "print(nx.is_connected(G))\n",
        "S = [G.subgraph(c).copy() for c in nx.connected_components(G)]\n",
        "largest_diameter = 0\n",
        "avg_path = 0\n",
        "for graph in S:\n",
        "  diameter = nx.diameter(graph)\n",
        "  avg_s_path = nx.average_shortest_path_length(graph)\n",
        "  if diameter > largest_diameter:\n",
        "    largest_diameter = diameter\n",
        "  if avg_s_path > avg_path:\n",
        "    avg_path = avg_s_path\n",
        "print(\"largest diameter: \", largest_diameter)\n",
        "print(\"longest average shortest path: \", avg_path)"
      ],
      "metadata": {
        "colab": {
          "base_uri": "https://localhost:8080/"
        },
        "id": "X70E8aGCwwij",
        "outputId": "435d32a9-e986-485e-aa58-844c04d64292"
      },
      "execution_count": 76,
      "outputs": [
        {
          "output_type": "stream",
          "name": "stdout",
          "text": [
            "False\n",
            "total diameter:  161\n",
            "largest diameter:  17\n",
            "longest shortest path:  4.826548168533554\n"
          ]
        }
      ]
    },
    {
      "cell_type": "code",
      "source": [
        "#average path length\n",
        "print(nx.average_clustering(G))"
      ],
      "metadata": {
        "colab": {
          "base_uri": "https://localhost:8080/"
        },
        "id": "r0QyrGttZ6f6",
        "outputId": "1414f11b-dc8e-4b16-c74c-02fc783923a1"
      },
      "execution_count": 26,
      "outputs": [
        {
          "output_type": "stream",
          "name": "stdout",
          "text": [
            "0.3537810311919283\n"
          ]
        }
      ]
    },
    {
      "cell_type": "markdown",
      "source": [
        "**Problem 5**"
      ],
      "metadata": {
        "id": "yGl6ZdVUeIvA"
      }
    },
    {
      "cell_type": "code",
      "source": [
        "c = list(nx.community.k_clique_communities(G, 2))"
      ],
      "metadata": {
        "id": "SP2w_ko8eKNa"
      },
      "execution_count": 28,
      "outputs": []
    },
    {
      "cell_type": "code",
      "source": [
        "len(c)"
      ],
      "metadata": {
        "colab": {
          "base_uri": "https://localhost:8080/"
        },
        "id": "8dO7xEY7f4O9",
        "outputId": "7b6e1892-b36d-4105-d9cd-43482358cd35"
      },
      "execution_count": 29,
      "outputs": [
        {
          "output_type": "execute_result",
          "data": {
            "text/plain": [
              "126"
            ]
          },
          "metadata": {},
          "execution_count": 29
        }
      ]
    },
    {
      "cell_type": "code",
      "source": [
        "#returns error that 'partition' is not a valid partition of the nodes of G\n",
        "nx.community.partition_quality(G, c)"
      ],
      "metadata": {
        "id": "6ywCUm2pjT3R"
      },
      "execution_count": null,
      "outputs": []
    },
    {
      "cell_type": "code",
      "source": [
        "l = list(nx.community.louvain_communities(G))"
      ],
      "metadata": {
        "id": "CW_7qXo6gM75"
      },
      "execution_count": 31,
      "outputs": []
    },
    {
      "cell_type": "code",
      "source": [
        "len(l)"
      ],
      "metadata": {
        "colab": {
          "base_uri": "https://localhost:8080/"
        },
        "id": "SRFQjbNuh_KB",
        "outputId": "84d55c85-38db-4d31-a787-362fe885f224"
      },
      "execution_count": 32,
      "outputs": [
        {
          "output_type": "execute_result",
          "data": {
            "text/plain": [
              "950"
            ]
          },
          "metadata": {},
          "execution_count": 32
        }
      ]
    },
    {
      "cell_type": "code",
      "source": [
        "nx.community.partition_quality(G, l)"
      ],
      "metadata": {
        "colab": {
          "base_uri": "https://localhost:8080/"
        },
        "id": "tXpZgX8IiqZW",
        "outputId": "e50273f3-1f75-4cc5-e731-9692fa034013"
      },
      "execution_count": 33,
      "outputs": [
        {
          "output_type": "execute_result",
          "data": {
            "text/plain": [
              "(0.9953586776859504, 0.821303889781363)"
            ]
          },
          "metadata": {},
          "execution_count": 33
        }
      ]
    },
    {
      "cell_type": "markdown",
      "source": [
        "**Problem 6**"
      ],
      "metadata": {
        "id": "6Crd9dZqkW3P"
      }
    },
    {
      "cell_type": "code",
      "source": [
        "community_data = {}\n",
        "i = 0\n",
        "for community in l:\n",
        "  rating_sum = 0\n",
        "  ratings = []\n",
        "  for index in community:\n",
        "    rating_sum = rating_sum + movies.at[netflix_data.index[index], 'rating']\n",
        "    ratings.append(movies.at[netflix_data.index[index], 'rating'])\n",
        "  community_data[i] = [rating_sum / len(community), np.std(ratings)]\n",
        "  i = i + 1"
      ],
      "metadata": {
        "id": "dy3xOkx2kyoZ"
      },
      "execution_count": 40,
      "outputs": []
    },
    {
      "cell_type": "code",
      "source": [
        "community_data[0]"
      ],
      "metadata": {
        "colab": {
          "base_uri": "https://localhost:8080/"
        },
        "id": "bvo8LRbYpI6x",
        "outputId": "f2cc9e83-64b1-4e2c-a6ac-eb4cd0521d85"
      },
      "execution_count": 41,
      "outputs": [
        {
          "output_type": "execute_result",
          "data": {
            "text/plain": [
              "[12.505263157894737, 5.678535178446392]"
            ]
          },
          "metadata": {},
          "execution_count": 41
        }
      ]
    },
    {
      "cell_type": "code",
      "source": [
        "max_std = 0\n",
        "max_std_id = 0\n",
        "min_std = community_data[0][1]\n",
        "min_std_id = 0\n",
        "for key in community_data:\n",
        "  if community_data[key][1] > max_std:\n",
        "    max_std = community_data[key][1]\n",
        "    max_std_id = key\n",
        "  if community_data[key][1] < min_std:\n",
        "    min_std = community_data[key][1]\n",
        "    min_std_id = key"
      ],
      "metadata": {
        "id": "Yc_wz1mmq7Lg"
      },
      "execution_count": 42,
      "outputs": []
    },
    {
      "cell_type": "code",
      "source": [
        "print(max_std)\n",
        "print(max_std_id)"
      ],
      "metadata": {
        "colab": {
          "base_uri": "https://localhost:8080/"
        },
        "id": "Bj5CACADrkea",
        "outputId": "4320d1aa-bdda-4911-fb60-4b48000f2c7a"
      },
      "execution_count": 44,
      "outputs": [
        {
          "output_type": "stream",
          "name": "stdout",
          "text": [
            "8.5\n",
            "668\n"
          ]
        }
      ]
    },
    {
      "cell_type": "code",
      "source": [
        "print(min_std)\n",
        "print(min_std_id)"
      ],
      "metadata": {
        "colab": {
          "base_uri": "https://localhost:8080/"
        },
        "id": "QTort-RErmDI",
        "outputId": "cba3aa49-9242-4f17-e1c1-427cc3abd493"
      },
      "execution_count": 45,
      "outputs": [
        {
          "output_type": "stream",
          "name": "stdout",
          "text": [
            "0.0\n",
            "1\n"
          ]
        }
      ]
    },
    {
      "cell_type": "markdown",
      "source": [
        "**Problem 7**"
      ],
      "metadata": {
        "id": "4PpePv33tscK"
      }
    },
    {
      "cell_type": "code",
      "source": [
        "community_word_data = {}\n",
        "i = 0\n",
        "for community in l:\n",
        "  word_sum = 0\n",
        "  words = []\n",
        "  for index in community:\n",
        "    for word in movies.at[netflix_data.index[index], 'description'].split():\n",
        "      words.append(word)\n",
        "  word_values = pd.value_counts(np.array(words))\n",
        "  for element in word_values:\n",
        "    if element > 1:\n",
        "      word_sum = word_sum + 1\n",
        "  community_word_data[i] = word_sum\n",
        "  i = i + 1"
      ],
      "metadata": {
        "id": "dG_s0z6jvf7q"
      },
      "execution_count": 46,
      "outputs": []
    },
    {
      "cell_type": "code",
      "source": [
        "community_word_data[0]"
      ],
      "metadata": {
        "colab": {
          "base_uri": "https://localhost:8080/"
        },
        "id": "YBQqNHrDxVbj",
        "outputId": "f4b5023e-ce4d-4fef-c01b-4bd1455ad9cc"
      },
      "execution_count": 47,
      "outputs": [
        {
          "output_type": "execute_result",
          "data": {
            "text/plain": [
              "1119"
            ]
          },
          "metadata": {},
          "execution_count": 47
        }
      ]
    },
    {
      "cell_type": "code",
      "source": [
        "max_words = 0\n",
        "max_words_id = 0\n",
        "min_words = community_word_data[0]\n",
        "min_words_id = 0\n",
        "for key in community_word_data:\n",
        "  if community_word_data[key] > max_words:\n",
        "    max_words = community_word_data[key]\n",
        "    max_words_id = key\n",
        "  if community_word_data[key] < min_words:\n",
        "    min_words = community_word_data[key]\n",
        "    min_words_id = key"
      ],
      "metadata": {
        "id": "8fzkL5JJxnHB"
      },
      "execution_count": 48,
      "outputs": []
    },
    {
      "cell_type": "code",
      "source": [
        "print(max_words)\n",
        "print(max_words_id)"
      ],
      "metadata": {
        "colab": {
          "base_uri": "https://localhost:8080/"
        },
        "id": "6ijEQcWGx9X0",
        "outputId": "c4308deb-92e8-40f8-8fea-0f13b6517797"
      },
      "execution_count": 49,
      "outputs": [
        {
          "output_type": "stream",
          "name": "stdout",
          "text": [
            "4965\n",
            "581\n"
          ]
        }
      ]
    },
    {
      "cell_type": "code",
      "source": [
        "print(min_words)\n",
        "print(min_words_id)"
      ],
      "metadata": {
        "colab": {
          "base_uri": "https://localhost:8080/"
        },
        "id": "Lscw6Ztex_gX",
        "outputId": "3cbb2780-fb2c-4b59-cab8-ae5fa7bf0695"
      },
      "execution_count": 50,
      "outputs": [
        {
          "output_type": "stream",
          "name": "stdout",
          "text": [
            "0\n",
            "3\n"
          ]
        }
      ]
    },
    {
      "cell_type": "markdown",
      "source": [
        "**Problem 8**"
      ],
      "metadata": {
        "id": "WRz3dhZvyihz"
      }
    },
    {
      "cell_type": "code",
      "source": [
        "Y = nx.gnp_random_graph(6129, 0.000095)\n",
        "print(nx.is_connected(Y))\n",
        "SG = [Y.subgraph(c).copy() for c in nx.connected_components(Y)]\n",
        "largest_diameter = 0\n",
        "avg_path = 0\n",
        "for graph in SG:\n",
        "  diameter = nx.diameter(graph)\n",
        "  avg_s_path = nx.average_shortest_path_length(graph)\n",
        "  if diameter > largest_diameter:\n",
        "    largest_diameter = diameter\n",
        "  if avg_s_path > avg_path:\n",
        "    avg_path = avg_s_path\n",
        "print(\"largest diameter: \", largest_diameter)\n",
        "print(\"longest average shortest path: \", avg_path)"
      ],
      "metadata": {
        "colab": {
          "base_uri": "https://localhost:8080/"
        },
        "id": "NrwA8O7Y9xEs",
        "outputId": "2dcaca22-a23a-4150-9922-0cb8993326a0"
      },
      "execution_count": 126,
      "outputs": [
        {
          "output_type": "stream",
          "name": "stdout",
          "text": [
            "False\n",
            "largest diameter:  11\n",
            "longest average shortest path:  4.726315789473684\n"
          ]
        }
      ]
    },
    {
      "cell_type": "markdown",
      "source": [
        "probabilty after some testing to get similar diameter and shortest path is: 0.000095"
      ],
      "metadata": {
        "id": "WZG2HP-wKzEb"
      }
    },
    {
      "cell_type": "markdown",
      "source": [
        "**Previous graph diameter and average shortest path**\n",
        "\n",
        "largest diameter:  17\n",
        "\n",
        "longest average shortest path:  4.826548168533554"
      ],
      "metadata": {
        "id": "_Cj9sSHcF285"
      }
    }
  ]
}