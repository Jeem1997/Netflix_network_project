{
  "nbformat": 4,
  "nbformat_minor": 0,
  "metadata": {
    "colab": {
      "provenance": []
    },
    "kernelspec": {
      "name": "python3",
      "display_name": "Python 3"
    },
    "language_info": {
      "name": "python"
    }
  },
  "cells": [
    {
      "cell_type": "code",
      "execution_count": 195,
      "metadata": {
        "id": "fh8oUypP686-"
      },
      "outputs": [],
      "source": [
        "import pandas as pd\n",
        "import matplotlib.pyplot as plt\n",
        "import numpy as np\n",
        "import scipy as sp\n",
        "import networkx as nx"
      ]
    },
    {
      "cell_type": "code",
      "source": [
        "def get_netflix_data():\n",
        "  netflix_data = pd.read_csv(\"netflix_titles.csv\")\n",
        "  netflix_data['date_added'] = pd.to_datetime(netflix_data['date_added'])\n",
        "  \n",
        "  return netflix_data"
      ],
      "metadata": {
        "id": "1Rz6-9fk7elB"
      },
      "execution_count": 2,
      "outputs": []
    },
    {
      "cell_type": "markdown",
      "source": [
        "**Problem 1**"
      ],
      "metadata": {
        "id": "KhWWY0Mm-Yni"
      }
    },
    {
      "cell_type": "code",
      "source": [
        "netflix_data = get_netflix_data()\n",
        "#reading just the titles which type is movie\n",
        "movies = netflix_data[netflix_data['type']== 'Movie']\n",
        "\n",
        "#converting movie durations into integer for the histogram and also replacing \"nan\" values with \"0\"\n",
        "#below code inspired from kaggle.\n",
        "movies['duration'] = movies['duration'].fillna('0')\n",
        "movies['duration'] = movies['duration'].str.split(' ').str[0].astype(int)\n",
        "\n",
        "plt.hist(movies['duration'])\n",
        "plt.xlabel('duration (in minutes)')\n",
        "plt.ylabel('movie amount')\n",
        "plt.show()"
      ],
      "metadata": {
        "colab": {
          "base_uri": "https://localhost:8080/",
          "height": 657
        },
        "id": "Mtq2i_-j_j1N",
        "outputId": "d797314f-197e-45f0-d29d-c92fb8467d1b"
      },
      "execution_count": 13,
      "outputs": [
        {
          "output_type": "stream",
          "name": "stderr",
          "text": [
            "<ipython-input-13-d9dc29b7f031>:7: SettingWithCopyWarning: \n",
            "A value is trying to be set on a copy of a slice from a DataFrame.\n",
            "Try using .loc[row_indexer,col_indexer] = value instead\n",
            "\n",
            "See the caveats in the documentation: https://pandas.pydata.org/pandas-docs/stable/user_guide/indexing.html#returning-a-view-versus-a-copy\n",
            "  movies['duration'] = movies['duration'].fillna('0')\n",
            "<ipython-input-13-d9dc29b7f031>:8: SettingWithCopyWarning: \n",
            "A value is trying to be set on a copy of a slice from a DataFrame.\n",
            "Try using .loc[row_indexer,col_indexer] = value instead\n",
            "\n",
            "See the caveats in the documentation: https://pandas.pydata.org/pandas-docs/stable/user_guide/indexing.html#returning-a-view-versus-a-copy\n",
            "  movies['duration'] = movies['duration'].str.split(' ').str[0].astype(int)\n"
          ]
        },
        {
          "output_type": "display_data",
          "data": {
            "text/plain": [
              "<Figure size 640x480 with 1 Axes>"
            ],
            "image/png": "[encoded data removed]"
          },
          "metadata": {}
        }
      ]
    },
    {
      "cell_type": "markdown",
      "source": [
        "**Problem 2**"
      ],
      "metadata": {
        "id": "diTlI_Lv-tG8"
      }
    },
    {
      "cell_type": "code",
      "source": [
        "#check what types of ratings there are before replacing them with numericals.\n",
        "print(movies.rating.unique())"
      ],
      "metadata": {
        "id": "ydsrqxweQMcs",
        "colab": {
          "base_uri": "https://localhost:8080/"
        },
        "outputId": "e28bd2f4-3439-4956-d915-751aa3840ed2"
      },
      "execution_count": 105,
      "outputs": [
        {
          "output_type": "stream",
          "name": "stdout",
          "text": [
            "[13  7 18 14  3 17  0]\n"
          ]
        }
      ]
    },
    {
      "cell_type": "code",
      "source": [
        "#changing movie ratings to approximated age values and also changed unsuitable values as blank\n",
        "#this needs to be run twice for some reason since it throws an error on the first run\n",
        "movies['rating'] = movies['rating'].str.replace('74 min', '0')\n",
        "movies['rating'] = movies['rating'].str.replace('84 min', '0')\n",
        "movies['rating'] = movies['rating'].str.replace('66 min', '0')\n",
        "movies['rating'] = movies['rating'].fillna('0')\n",
        "movies['rating'] = movies['rating'].str.replace('NR', '0')\n",
        "movies['rating'] = movies['rating'].str.replace('NC-17', '18')\n",
        "movies['rating'] = movies['rating'].str.replace('N17', '18')\n",
        "movies['rating'] = movies['rating'].str.replace('U17', '18')\n",
        "movies['rating'] = movies['rating'].str.replace('PG-13', '13')\n",
        "movies['rating'] = movies['rating'].str.replace('PG', '7')\n",
        "movies['rating'] = movies['rating'].str.replace('TV-MA', '18')\n",
        "movies['rating'] = movies['rating'].str.replace('TV-Y7-FV', '7')\n",
        "movies['rating'] = movies['rating'].str.replace('TV-Y7', '7')\n",
        "movies['rating'] = movies['rating'].str.replace('TV-7', '7')\n",
        "movies['rating'] = movies['rating'].str.replace('TV-Y', '3')\n",
        "movies['rating'] = movies['rating'].str.replace('TV-G', '0')\n",
        "movies['rating'] = movies['rating'].str.replace('G', '0')\n",
        "movies['rating'] = movies['rating'].str.replace('TV-14', '14')\n",
        "movies['rating'] = movies['rating'].str.replace('R', '17')\n",
        "\n",
        "movies['rating'] = movies['rating'].astype(int)"
      ],
      "metadata": {
        "id": "BY-_caW_FjDa",
        "colab": {
          "base_uri": "https://localhost:8080/"
        },
        "outputId": "0be47703-39b4-43b9-d2c6-ba6efdcf335e"
      },
      "execution_count": 104,
      "outputs": [
        {
          "output_type": "stream",
          "name": "stderr",
          "text": [
            "<ipython-input-104-cdb9ea45a62b>:2: SettingWithCopyWarning: \n",
            "A value is trying to be set on a copy of a slice from a DataFrame.\n",
            "Try using .loc[row_indexer,col_indexer] = value instead\n",
            "\n",
            "See the caveats in the documentation: https://pandas.pydata.org/pandas-docs/stable/user_guide/indexing.html#returning-a-view-versus-a-copy\n",
            "  movies['rating'] = movies['rating'].str.replace('74 min', '0')\n",
            "<ipython-input-104-cdb9ea45a62b>:3: SettingWithCopyWarning: \n",
            "A value is trying to be set on a copy of a slice from a DataFrame.\n",
            "Try using .loc[row_indexer,col_indexer] = value instead\n",
            "\n",
            "See the caveats in the documentation: https://pandas.pydata.org/pandas-docs/stable/user_guide/indexing.html#returning-a-view-versus-a-copy\n",
            "  movies['rating'] = movies['rating'].str.replace('84 min', '0')\n",
            "<ipython-input-104-cdb9ea45a62b>:4: SettingWithCopyWarning: \n",
            "A value is trying to be set on a copy of a slice from a DataFrame.\n",
            "Try using .loc[row_indexer,col_indexer] = value instead\n",
            "\n",
            "See the caveats in the documentation: https://pandas.pydata.org/pandas-docs/stable/user_guide/indexing.html#returning-a-view-versus-a-copy\n",
            "  movies['rating'] = movies['rating'].str.replace('66 min', '0')\n",
            "<ipython-input-104-cdb9ea45a62b>:5: SettingWithCopyWarning: \n",
            "A value is trying to be set on a copy of a slice from a DataFrame.\n",
            "Try using .loc[row_indexer,col_indexer] = value instead\n",
            "\n",
            "See the caveats in the documentation: https://pandas.pydata.org/pandas-docs/stable/user_guide/indexing.html#returning-a-view-versus-a-copy\n",
            "  movies['rating'] = movies['rating'].fillna('0')\n",
            "<ipython-input-104-cdb9ea45a62b>:6: SettingWithCopyWarning: \n",
            "A value is trying to be set on a copy of a slice from a DataFrame.\n",
            "Try using .loc[row_indexer,col_indexer] = value instead\n",
            "\n",
            "See the caveats in the documentation: https://pandas.pydata.org/pandas-docs/stable/user_guide/indexing.html#returning-a-view-versus-a-copy\n",
            "  movies['rating'] = movies['rating'].str.replace('NR', '0')\n",
            "<ipython-input-104-cdb9ea45a62b>:7: SettingWithCopyWarning: \n",
            "A value is trying to be set on a copy of a slice from a DataFrame.\n",
            "Try using .loc[row_indexer,col_indexer] = value instead\n",
            "\n",
            "See the caveats in the documentation: https://pandas.pydata.org/pandas-docs/stable/user_guide/indexing.html#returning-a-view-versus-a-copy\n",
            "  movies['rating'] = movies['rating'].str.replace('NC-17', '18')\n",
            "<ipython-input-104-cdb9ea45a62b>:8: SettingWithCopyWarning: \n",
            "A value is trying to be set on a copy of a slice from a DataFrame.\n",
            "Try using .loc[row_indexer,col_indexer] = value instead\n",
            "\n",
            "See the caveats in the documentation: https://pandas.pydata.org/pandas-docs/stable/user_guide/indexing.html#returning-a-view-versus-a-copy\n",
            "  movies['rating'] = movies['rating'].str.replace('N17', '18')\n",
            "<ipython-input-104-cdb9ea45a62b>:9: SettingWithCopyWarning: \n",
            "A value is trying to be set on a copy of a slice from a DataFrame.\n",
            "Try using .loc[row_indexer,col_indexer] = value instead\n",
            "\n",
            "See the caveats in the documentation: https://pandas.pydata.org/pandas-docs/stable/user_guide/indexing.html#returning-a-view-versus-a-copy\n",
            "  movies['rating'] = movies['rating'].str.replace('U17', '18')\n",
            "<ipython-input-104-cdb9ea45a62b>:10: SettingWithCopyWarning: \n",
            "A value is trying to be set on a copy of a slice from a DataFrame.\n",
            "Try using .loc[row_indexer,col_indexer] = value instead\n",
            "\n",
            "See the caveats in the documentation: https://pandas.pydata.org/pandas-docs/stable/user_guide/indexing.html#returning-a-view-versus-a-copy\n",
            "  movies['rating'] = movies['rating'].str.replace('PG-13', '13')\n",
            "<ipython-input-104-cdb9ea45a62b>:11: SettingWithCopyWarning: \n",
            "A value is trying to be set on a copy of a slice from a DataFrame.\n",
            "Try using .loc[row_indexer,col_indexer] = value instead\n",
            "\n",
            "See the caveats in the documentation: https://pandas.pydata.org/pandas-docs/stable/user_guide/indexing.html#returning-a-view-versus-a-copy\n",
            "  movies['rating'] = movies['rating'].str.replace('PG', '7')\n",
            "<ipython-input-104-cdb9ea45a62b>:12: SettingWithCopyWarning: \n",
            "A value is trying to be set on a copy of a slice from a DataFrame.\n",
            "Try using .loc[row_indexer,col_indexer] = value instead\n",
            "\n",
            "See the caveats in the documentation: https://pandas.pydata.org/pandas-docs/stable/user_guide/indexing.html#returning-a-view-versus-a-copy\n",
            "  movies['rating'] = movies['rating'].str.replace('TV-MA', '18')\n",
            "<ipython-input-104-cdb9ea45a62b>:13: SettingWithCopyWarning: \n",
            "A value is trying to be set on a copy of a slice from a DataFrame.\n",
            "Try using .loc[row_indexer,col_indexer] = value instead\n",
            "\n",
            "See the caveats in the documentation: https://pandas.pydata.org/pandas-docs/stable/user_guide/indexing.html#returning-a-view-versus-a-copy\n",
            "  movies['rating'] = movies['rating'].str.replace('TV-Y7-FV', '7')\n",
            "<ipython-input-104-cdb9ea45a62b>:14: SettingWithCopyWarning: \n",
            "A value is trying to be set on a copy of a slice from a DataFrame.\n",
            "Try using .loc[row_indexer,col_indexer] = value instead\n",
            "\n",
            "See the caveats in the documentation: https://pandas.pydata.org/pandas-docs/stable/user_guide/indexing.html#returning-a-view-versus-a-copy\n",
            "  movies['rating'] = movies['rating'].str.replace('TV-Y7', '7')\n",
            "<ipython-input-104-cdb9ea45a62b>:15: SettingWithCopyWarning: \n",
            "A value is trying to be set on a copy of a slice from a DataFrame.\n",
            "Try using .loc[row_indexer,col_indexer] = value instead\n",
            "\n",
            "See the caveats in the documentation: https://pandas.pydata.org/pandas-docs/stable/user_guide/indexing.html#returning-a-view-versus-a-copy\n",
            "  movies['rating'] = movies['rating'].str.replace('TV-7', '7')\n",
            "<ipython-input-104-cdb9ea45a62b>:16: SettingWithCopyWarning: \n",
            "A value is trying to be set on a copy of a slice from a DataFrame.\n",
            "Try using .loc[row_indexer,col_indexer] = value instead\n",
            "\n",
            "See the caveats in the documentation: https://pandas.pydata.org/pandas-docs/stable/user_guide/indexing.html#returning-a-view-versus-a-copy\n",
            "  movies['rating'] = movies['rating'].str.replace('TV-Y', '3')\n",
            "<ipython-input-104-cdb9ea45a62b>:17: SettingWithCopyWarning: \n",
            "A value is trying to be set on a copy of a slice from a DataFrame.\n",
            "Try using .loc[row_indexer,col_indexer] = value instead\n",
            "\n",
            "See the caveats in the documentation: https://pandas.pydata.org/pandas-docs/stable/user_guide/indexing.html#returning-a-view-versus-a-copy\n",
            "  movies['rating'] = movies['rating'].str.replace('TV-G', '0')\n",
            "<ipython-input-104-cdb9ea45a62b>:18: SettingWithCopyWarning: \n",
            "A value is trying to be set on a copy of a slice from a DataFrame.\n",
            "Try using .loc[row_indexer,col_indexer] = value instead\n",
            "\n",
            "See the caveats in the documentation: https://pandas.pydata.org/pandas-docs/stable/user_guide/indexing.html#returning-a-view-versus-a-copy\n",
            "  movies['rating'] = movies['rating'].str.replace('G', '0')\n",
            "<ipython-input-104-cdb9ea45a62b>:19: SettingWithCopyWarning: \n",
            "A value is trying to be set on a copy of a slice from a DataFrame.\n",
            "Try using .loc[row_indexer,col_indexer] = value instead\n",
            "\n",
            "See the caveats in the documentation: https://pandas.pydata.org/pandas-docs/stable/user_guide/indexing.html#returning-a-view-versus-a-copy\n",
            "  movies['rating'] = movies['rating'].str.replace('TV-14', '14')\n",
            "<ipython-input-104-cdb9ea45a62b>:20: SettingWithCopyWarning: \n",
            "A value is trying to be set on a copy of a slice from a DataFrame.\n",
            "Try using .loc[row_indexer,col_indexer] = value instead\n",
            "\n",
            "See the caveats in the documentation: https://pandas.pydata.org/pandas-docs/stable/user_guide/indexing.html#returning-a-view-versus-a-copy\n",
            "  movies['rating'] = movies['rating'].str.replace('R', '17')\n",
            "<ipython-input-104-cdb9ea45a62b>:22: SettingWithCopyWarning: \n",
            "A value is trying to be set on a copy of a slice from a DataFrame.\n",
            "Try using .loc[row_indexer,col_indexer] = value instead\n",
            "\n",
            "See the caveats in the documentation: https://pandas.pydata.org/pandas-docs/stable/user_guide/indexing.html#returning-a-view-versus-a-copy\n",
            "  movies['rating'] = movies['rating'].astype(int)\n"
          ]
        }
      ]
    },
    {
      "cell_type": "code",
      "source": [
        "#Calculating pearson correlation and p-value between movie rating and movie duration.\n",
        "sp.stats.pearsonr(movies['rating'], movies['duration'])"
      ],
      "metadata": {
        "id": "Gq0Pq5HlUPku",
        "colab": {
          "base_uri": "https://localhost:8080/"
        },
        "outputId": "8d7fc0e4-b517-40fa-ddd6-9e1720f3a664"
      },
      "execution_count": 8,
      "outputs": [
        {
          "output_type": "execute_result",
          "data": {
            "text/plain": [
              "PearsonRResult(statistic=0.18624537017089804, pvalue=5.6401096041918605e-49)"
            ]
          },
          "metadata": {},
          "execution_count": 8
        }
      ]
    },
    {
      "cell_type": "markdown",
      "source": [
        "**Problem 3**"
      ],
      "metadata": {
        "id": "L2zb0Ic2_Erk"
      }
    },
    {
      "cell_type": "code",
      "source": [
        "netflix_data['cast'] = netflix_data['cast'].fillna('No Actors')\n",
        "movies = netflix_data[netflix_data['type'] == 'Movie']"
      ],
      "metadata": {
        "id": "of82x5fN6wBK"
      },
      "execution_count": 15,
      "outputs": []
    },
    {
      "cell_type": "code",
      "source": [
        "print(movies['cast'])"
      ],
      "metadata": {
        "colab": {
          "base_uri": "https://localhost:8080/"
        },
        "id": "lJ_JVIaC-Bms",
        "outputId": "69521a2c-77f8-41c3-c0ef-8767e32fb74d"
      },
      "execution_count": 16,
      "outputs": [
        {
          "output_type": "stream",
          "name": "stdout",
          "text": [
            "0                                               No Actors\n",
            "6       Vanessa Hudgens, Kimiko Glenn, James Marsden, ...\n",
            "7       Kofi Ghanaba, Oyafunmike Ogunlano, Alexandra D...\n",
            "9       Melissa McCarthy, Chris O'Dowd, Kevin Kline, T...\n",
            "12      Luna Wedler, Jannis Niewöhner, Milan Peschel, ...\n",
            "                              ...                        \n",
            "8801    Ali Suliman, Saleh Bakri, Yasa, Ali Al-Jabri, ...\n",
            "8802    Mark Ruffalo, Jake Gyllenhaal, Robert Downey J...\n",
            "8804    Jesse Eisenberg, Woody Harrelson, Emma Stone, ...\n",
            "8805    Tim Allen, Courteney Cox, Chevy Chase, Kate Ma...\n",
            "8806    Vicky Kaushal, Sarah-Jane Dias, Raaghav Chanan...\n",
            "Name: cast, Length: 6131, dtype: object\n"
          ]
        }
      ]
    },
    {
      "cell_type": "code",
      "source": [
        "def weight_between_nodes(movie1, movie2):\n",
        "  movie_cast = netflix_data.at[netflix_data.index[movie1], 'cast']\n",
        "  movie_cast1 = netflix_data.at[netflix_data.index[movie2], 'cast']\n",
        "  \n",
        "  movie_casts = []\n",
        "  for actor in movie_cast.strip().split(','):\n",
        "    movie_casts.append(actor)\n",
        "  for actor in movie_cast1.strip().split(','):\n",
        "    movie_casts.append(actor)\n",
        "\n",
        "  common_actors = {i:movie_casts.count(i) for i in movie_casts}\n",
        "  weight = 0\n",
        "  for actor, i in common_actors.items():\n",
        "    if i > 1:\n",
        "      weight = weight + 1\n",
        "  return weight"
      ],
      "metadata": {
        "id": "Y6zy8hzYo2FB"
      },
      "execution_count": 17,
      "outputs": []
    },
    {
      "cell_type": "code",
      "source": [
        "G = nx.Graph()\n",
        "for i, rowi in movies.iterrows():\n",
        "  G.add_node(i)"
      ],
      "metadata": {
        "id": "1K2DxiRIxPX_"
      },
      "execution_count": 18,
      "outputs": []
    },
    {
      "cell_type": "code",
      "source": [
        "nodes = []\n",
        "for node in G.nodes():\n",
        "  if node == node:\n",
        "    nodes.append(node)\n",
        "#later noticed there is bug with these two nodes for some reason...\n",
        "G.remove_node(nodes[1061])\n",
        "G.remove_node(nodes[3906])\n",
        "nodes = []\n",
        "for node in G.nodes():\n",
        "  if node == node:\n",
        "    nodes.append(node)"
      ],
      "metadata": {
        "id": "DpDhm9HL4QTJ"
      },
      "execution_count": 19,
      "outputs": []
    },
    {
      "cell_type": "code",
      "source": [
        "#loop for adding edged to nodes with common actors, if there is no common actors there is no edge\n",
        "# WARNING!!! this loop section takes long time to execute took me 13 minutes!!!\n",
        "for i in range(len(nodes)):\n",
        "  for j in range(len(nodes)):\n",
        "    if nodes[i] != nodes[j]:\n",
        "      if (G.has_edge(nodes[i], nodes[j]) or G.has_edge(nodes[j], nodes[i]))  == False:\n",
        "        w = weight_between_nodes(nodes[i], nodes[j])\n",
        "        if w > 0:\n",
        "          G.add_edge(nodes[i], nodes[j], weight=w)"
      ],
      "metadata": {
        "id": "u2UdZcw2AJku"
      },
      "execution_count": 20,
      "outputs": []
    },
    {
      "cell_type": "code",
      "source": [
        "#drawing the unusable graph due to the size.\n",
        "nx.draw(G)"
      ],
      "metadata": {
        "colab": {
          "base_uri": "https://localhost:8080/",
          "height": 516
        },
        "id": "VC1dBPomBdKL",
        "outputId": "8a6bb94a-f9b0-4ff5-d0fc-2ae3a8aa0f96"
      },
      "execution_count": 21,
      "outputs": [
        {
          "output_type": "display_data",
          "data": {
            "text/plain": [
              "<Figure size 640x480 with 1 Axes>"
            ],
            "image/png": "[encoded data removed]"
          },
          "metadata": {}
        }
      ]
    },
    {
      "cell_type": "code",
      "source": [
        "len(G.nodes)"
      ],
      "metadata": {
        "colab": {
          "base_uri": "https://localhost:8080/"
        },
        "id": "j4fqZtKYVnZl",
        "outputId": "2665f6a7-6004-467a-b8f0-1ff8aa7e72f8"
      },
      "execution_count": 22,
      "outputs": [
        {
          "output_type": "execute_result",
          "data": {
            "text/plain": [
              "6129"
            ]
          },
          "metadata": {},
          "execution_count": 22
        }
      ]
    },
    {
      "cell_type": "code",
      "source": [
        "netflix_data.at[netflix_data.index[nodes[8]], 'title']"
      ],
      "metadata": {
        "colab": {
          "base_uri": "https://localhost:8080/",
          "height": 35
        },
        "id": "g0dSGbqBVzX-",
        "outputId": "5e8ee16a-08ef-43e6-88d4-035690272ca3"
      },
      "execution_count": 23,
      "outputs": [
        {
          "output_type": "execute_result",
          "data": {
            "text/plain": [
              "'Avvai Shanmughi'"
            ],
            "application/vnd.google.colaboratory.intrinsic+json": {
              "type": "string"
            }
          },
          "metadata": {},
          "execution_count": 23
        }
      ]
    },
    {
      "cell_type": "code",
      "source": [
        "sub_G = nx.Graph()"
      ],
      "metadata": {
        "id": "jkd2lFOaTVNH"
      },
      "execution_count": 24,
      "outputs": []
    },
    {
      "cell_type": "code",
      "source": [
        "for n, m in G.edges(nodes[8]):\n",
        "  edge_data = G.get_edge_data(n, m)\n",
        "  sub_G.add_edge(n, m, weight = edge_data['weight'])"
      ],
      "metadata": {
        "id": "gpBzQqXDSzdB"
      },
      "execution_count": 25,
      "outputs": []
    },
    {
      "cell_type": "code",
      "source": [
        "nx.draw(sub_G, with_labels=True)\n",
        "nx.draw_networkx_edge_labels(sub_G, nx.spring_layout(sub_G), edge_labels=nx.get_edge_attributes(sub_G, 'weight'))"
      ],
      "metadata": {
        "colab": {
          "base_uri": "https://localhost:8080/",
          "height": 742
        },
        "id": "ZERCMql-VSHk",
        "outputId": "0a12f88f-4d9a-4503-b225-ea582b665ff8"
      },
      "execution_count": 26,
      "outputs": [
        {
          "output_type": "execute_result",
          "data": {
            "text/plain": [
              "{(22, 24): Text(-0.3467400567245732, -0.3487521676851194, '1'),\n",
              " (22, 26): Text(-0.089540235584871, 0.19463670170028582, '2'),\n",
              " (22, 3530): Text(-0.07295009835937773, 0.4979091424069286, '1'),\n",
              " (22, 3975): Text(0.4892547799149172, 0.05731880618728834, '1'),\n",
              " (22, 4481): Text(0.1019789757556691, -0.48718012114098963, '1'),\n",
              " (22, 5334): Text(-0.4782007560766324, 0.11698727683878762, '1'),\n",
              " (22, 5335): Text(0.39318295190263897, 0.28162921030760024, '1'),\n",
              " (22, 5336): Text(-0.46346914556720314, -0.13448581930603878, '1'),\n",
              " (22, 5337): Text(0.20320392522800357, 0.45157398142357297, '1'),\n",
              " (22, 5338): Text(0.3174713726714491, -0.3782955951513956, '1'),\n",
              " (22, 5339): Text(-0.3499979489129061, 0.3643897099137631, '1'),\n",
              " (22, 7162): Text(-0.13490063381218878, -0.4614284632638664, '1'),\n",
              " (22, 7917): Text(0.4471451548528515, -0.1793929533476733, '1')}"
            ]
          },
          "metadata": {},
          "execution_count": 26
        },
        {
          "output_type": "display_data",
          "data": {
            "text/plain": [
              "<Figure size 640x480 with 1 Axes>"
            ],
            "image/png": "[encoded data removed]"
          },
          "metadata": {}
        }
      ]
    },
    {
      "cell_type": "code",
      "source": [
        "print(netflix_data.at[netflix_data.index[22], 'title'])\n",
        "print(netflix_data.at[netflix_data.index[24], 'title'])\n",
        "print(netflix_data.at[netflix_data.index[26], 'title'])\n",
        "print(netflix_data.at[netflix_data.index[3530], 'title'])\n",
        "print(netflix_data.at[netflix_data.index[3975], 'title'])\n",
        "print(netflix_data.at[netflix_data.index[4481], 'title'])\n",
        "print(netflix_data.at[netflix_data.index[5334], 'title'])\n",
        "print(netflix_data.at[netflix_data.index[5335], 'title'])\n",
        "print(netflix_data.at[netflix_data.index[5336], 'title'])\n",
        "print(netflix_data.at[netflix_data.index[5337], 'title'])\n",
        "print(netflix_data.at[netflix_data.index[5338], 'title'])\n",
        "print(netflix_data.at[netflix_data.index[5339], 'title'])\n",
        "print(netflix_data.at[netflix_data.index[6013], 'title'])\n",
        "print(netflix_data.at[netflix_data.index[7162], 'title'])\n",
        "print(netflix_data.at[netflix_data.index[7917], 'title'])"
      ],
      "metadata": {
        "colab": {
          "base_uri": "https://localhost:8080/"
        },
        "id": "rt7XYYxUabId",
        "outputId": "4fe6a668-9fe1-48d0-ee79-3a0ddb7d7e57"
      },
      "execution_count": 27,
      "outputs": [
        {
          "output_type": "stream",
          "name": "stdout",
          "text": [
            "Avvai Shanmughi\n",
            "Jeans\n",
            "Minsara Kanavu\n",
            "Article 15\n",
            "Sei\n",
            "Baahubali: The Beginning (English Version)\n",
            "Baahubali 2: The Conclusion (Hindi Version)\n",
            "Baahubali 2: The Conclusion (Malayalam Version)\n",
            "Baahubali 2: The Conclusion (Tamil Version)\n",
            "Baahubali: The Beginning (Hindi Version)\n",
            "Baahubali: The Beginning (Malayalam Version)\n",
            "Baahubali: The Beginning (Tamil Version)\n",
            "300 Miles to Heaven\n",
            "Kabali (Hindi Version)\n",
            "Sadma\n"
          ]
        }
      ]
    },
    {
      "cell_type": "markdown",
      "source": [
        "**problem 4**"
      ],
      "metadata": {
        "id": "RMWIzkthddCO"
      }
    },
    {
      "cell_type": "code",
      "source": [
        "#number of singleton nodes\n",
        "print(len(list(nx.isolates(G))))"
      ],
      "metadata": {
        "colab": {
          "base_uri": "https://localhost:8080/"
        },
        "id": "gFAv_x1vhc0o",
        "outputId": "e04585f9-11a3-4fa9-e039-647f5927dca0"
      },
      "execution_count": 28,
      "outputs": [
        {
          "output_type": "stream",
          "name": "stdout",
          "text": [
            "803\n"
          ]
        }
      ]
    },
    {
      "cell_type": "code",
      "source": [
        "#largest component\n",
        "Gcc = sorted(nx.connected_components(G), key=len, reverse=True)\n",
        "G0 = G.subgraph(Gcc[0])\n",
        "print(G0)"
      ],
      "metadata": {
        "colab": {
          "base_uri": "https://localhost:8080/"
        },
        "id": "SC2dhU-YiDmf",
        "outputId": "6205c790-0357-474e-d268-556928f731e4"
      },
      "execution_count": 29,
      "outputs": [
        {
          "output_type": "stream",
          "name": "stdout",
          "text": [
            "Graph with 4483 nodes and 38225 edges\n"
          ]
        }
      ]
    },
    {
      "cell_type": "code",
      "source": [
        "#number of components and their sizes\n",
        "n_components = nx.number_connected_components(G)\n",
        "print(\"number of components:\", n_components)\n",
        "\n",
        "for component in nx.connected_components(G):\n",
        "    print(len(component))"
      ],
      "metadata": {
        "id": "BBwfWxbwrYYj"
      },
      "execution_count": null,
      "outputs": []
    },
    {
      "cell_type": "code",
      "source": [
        "#diameter of the network\n",
        "print(nx.is_connected(G))\n",
        "S = [G.subgraph(c).copy() for c in nx.connected_components(G)]\n",
        "total_diameter = 0\n",
        "largest_diameter = 0\n",
        "avg_path = 0\n",
        "for graph in S:\n",
        "  diameter = nx.diameter(graph)\n",
        "  avg_s_path = nx.average_shortest_path_length(graph)\n",
        "  total_diameter = total_diameter + diameter\n",
        "  if diameter > largest_diameter:\n",
        "    largest_diameter = diameter\n",
        "  if avg_s_path > avg_path:\n",
        "    avg_path = avg_s_path\n",
        "print(\"total diameter: \", total_diameter)\n",
        "print(\"largest component diameter: \", largest_diameter)\n",
        "print(\"Average shortest path: \", avg_path)"
      ],
      "metadata": {
        "colab": {
          "base_uri": "https://localhost:8080/"
        },
        "id": "X70E8aGCwwij",
        "outputId": "9e5fd9a1-5986-4c22-bbd1-1a0c80821b15"
      },
      "execution_count": 38,
      "outputs": [
        {
          "output_type": "stream",
          "name": "stdout",
          "text": [
            "False\n",
            "total diameter:  161\n",
            "largest component diameter:  17\n",
            "Average shortest path:  4.826548168533554\n"
          ]
        }
      ]
    },
    {
      "cell_type": "code",
      "source": [
        "#average path length\n",
        "print(nx.average_clustering(G))"
      ],
      "metadata": {
        "colab": {
          "base_uri": "https://localhost:8080/"
        },
        "id": "r0QyrGttZ6f6",
        "outputId": "f05fd471-2738-4951-9c0d-21471b8f0f50"
      },
      "execution_count": 39,
      "outputs": [
        {
          "output_type": "stream",
          "name": "stdout",
          "text": [
            "0.3537810311919283\n"
          ]
        }
      ]
    },
    {
      "cell_type": "markdown",
      "source": [
        "**Problem 5**"
      ],
      "metadata": {
        "id": "yGl6ZdVUeIvA"
      }
    },
    {
      "cell_type": "code",
      "source": [
        "c = list(nx.community.k_clique_communities(G, 2))"
      ],
      "metadata": {
        "id": "SP2w_ko8eKNa"
      },
      "execution_count": 52,
      "outputs": []
    },
    {
      "cell_type": "code",
      "source": [
        "len(c)"
      ],
      "metadata": {
        "colab": {
          "base_uri": "https://localhost:8080/"
        },
        "id": "8dO7xEY7f4O9",
        "outputId": "a85bd17e-e1a8-42a6-824e-befc0ad2760d"
      },
      "execution_count": 60,
      "outputs": [
        {
          "output_type": "execute_result",
          "data": {
            "text/plain": [
              "126"
            ]
          },
          "metadata": {},
          "execution_count": 60
        }
      ]
    },
    {
      "cell_type": "code",
      "source": [
        "#returns error that 'partition' is not a valid partition of the nodes of G\n",
        "nx.community.partition_quality(G, c)"
      ],
      "metadata": {
        "id": "6ywCUm2pjT3R"
      },
      "execution_count": null,
      "outputs": []
    },
    {
      "cell_type": "code",
      "source": [
        "l = list(nx.community.louvain_communities(G))"
      ],
      "metadata": {
        "id": "CW_7qXo6gM75"
      },
      "execution_count": 74,
      "outputs": []
    },
    {
      "cell_type": "code",
      "source": [
        "len(l)"
      ],
      "metadata": {
        "colab": {
          "base_uri": "https://localhost:8080/"
        },
        "id": "SRFQjbNuh_KB",
        "outputId": "aea3a248-a2d4-41e3-c435-60700e2be3a1"
      },
      "execution_count": 85,
      "outputs": [
        {
          "output_type": "execute_result",
          "data": {
            "text/plain": [
              "950"
            ]
          },
          "metadata": {},
          "execution_count": 85
        }
      ]
    },
    {
      "cell_type": "code",
      "source": [
        "nx.community.partition_quality(G, l)"
      ],
      "metadata": {
        "colab": {
          "base_uri": "https://localhost:8080/"
        },
        "id": "tXpZgX8IiqZW",
        "outputId": "a953953d-49ff-4a17-b05e-daf0b584ba17"
      },
      "execution_count": 81,
      "outputs": [
        {
          "output_type": "execute_result",
          "data": {
            "text/plain": [
              "(0.9949752066115702, 0.8248291625610727)"
            ]
          },
          "metadata": {},
          "execution_count": 81
        }
      ]
    },
    {
      "cell_type": "markdown",
      "source": [
        "**Problem 6**"
      ],
      "metadata": {
        "id": "6Crd9dZqkW3P"
      }
    },
    {
      "cell_type": "code",
      "source": [
        "community_data = {}\n",
        "i = 0\n",
        "for community in l:\n",
        "  rating_sum = 0\n",
        "  ratings = []\n",
        "  for index in community:\n",
        "    rating_sum = rating_sum + movies.at[netflix_data.index[index], 'rating']\n",
        "    ratings.append(movies.at[netflix_data.index[index], 'rating'])\n",
        "  community_data[i] = [rating_sum / len(community), np.std(ratings)]\n",
        "  i = i + 1"
      ],
      "metadata": {
        "id": "dy3xOkx2kyoZ"
      },
      "execution_count": 136,
      "outputs": []
    },
    {
      "cell_type": "code",
      "source": [
        "community_data[0]"
      ],
      "metadata": {
        "colab": {
          "base_uri": "https://localhost:8080/"
        },
        "id": "bvo8LRbYpI6x",
        "outputId": "d54f574f-0963-4406-d394-1c31e2b90b09"
      },
      "execution_count": 143,
      "outputs": [
        {
          "output_type": "execute_result",
          "data": {
            "text/plain": [
              "[12.421052631578947, 5.853256308951671]"
            ]
          },
          "metadata": {},
          "execution_count": 143
        }
      ]
    },
    {
      "cell_type": "code",
      "source": [
        "max_std = 0\n",
        "max_std_id = 0\n",
        "min_std = community_data[0][1]\n",
        "min_std_id = 0\n",
        "for key in community_data:\n",
        "  if community_data[key][1] > max_std:\n",
        "    max_std = community_data[key][1]\n",
        "    max_std_id = key\n",
        "  if community_data[key][1] < min_std:\n",
        "    min_std = community_data[key][1]\n",
        "    min_std_id = key"
      ],
      "metadata": {
        "id": "Yc_wz1mmq7Lg"
      },
      "execution_count": 156,
      "outputs": []
    },
    {
      "cell_type": "code",
      "source": [
        "print(max_std)\n",
        "print(max_std_id)"
      ],
      "metadata": {
        "colab": {
          "base_uri": "https://localhost:8080/"
        },
        "id": "Bj5CACADrkea",
        "outputId": "c5a31c0d-07d5-4ed9-ad8e-20e8acb32bf2"
      },
      "execution_count": 157,
      "outputs": [
        {
          "output_type": "stream",
          "name": "stdout",
          "text": [
            "9.0\n",
            "664\n"
          ]
        }
      ]
    },
    {
      "cell_type": "code",
      "source": [
        "print(min_std)\n",
        "print(min_std_id)"
      ],
      "metadata": {
        "colab": {
          "base_uri": "https://localhost:8080/"
        },
        "id": "QTort-RErmDI",
        "outputId": "9cecc20a-78a5-4af1-b5c9-8ed130b583f5"
      },
      "execution_count": 158,
      "outputs": [
        {
          "output_type": "stream",
          "name": "stdout",
          "text": [
            "0.0\n",
            "1\n"
          ]
        }
      ]
    },
    {
      "cell_type": "markdown",
      "source": [
        "**Problem 7**"
      ],
      "metadata": {
        "id": "4PpePv33tscK"
      }
    },
    {
      "cell_type": "code",
      "source": [
        "community_word_data = {}\n",
        "i = 0\n",
        "for community in l:\n",
        "  word_sum = 0\n",
        "  words = []\n",
        "  for index in community:\n",
        "    for word in movies.at[netflix_data.index[index], 'description'].split():\n",
        "      words.append(word)\n",
        "  word_values = pd.value_counts(np.array(words))\n",
        "  for element in word_values:\n",
        "    if element > 1:\n",
        "      word_sum = word_sum + 1\n",
        "  community_word_data[i] = word_sum\n",
        "  i = i + 1"
      ],
      "metadata": {
        "id": "dG_s0z6jvf7q"
      },
      "execution_count": 181,
      "outputs": []
    },
    {
      "cell_type": "code",
      "source": [
        "community_word_data[0]"
      ],
      "metadata": {
        "colab": {
          "base_uri": "https://localhost:8080/"
        },
        "id": "YBQqNHrDxVbj",
        "outputId": "9acf5f2a-23ff-46d9-ec11-b815d19509d3"
      },
      "execution_count": 188,
      "outputs": [
        {
          "output_type": "execute_result",
          "data": {
            "text/plain": [
              "1119"
            ]
          },
          "metadata": {},
          "execution_count": 188
        }
      ]
    },
    {
      "cell_type": "code",
      "source": [
        "max_words = 0\n",
        "max_words_id = 0\n",
        "min_words = community_word_data[0]\n",
        "min_words_id = 0\n",
        "for key in community_word_data:\n",
        "  if community_word_data[key] > max_words:\n",
        "    max_words = community_word_data[key]\n",
        "    max_words_id = key\n",
        "  if community_word_data[key] < min_words:\n",
        "    min_words = community_word_data[key]\n",
        "    min_words_id = key"
      ],
      "metadata": {
        "id": "8fzkL5JJxnHB"
      },
      "execution_count": 191,
      "outputs": []
    },
    {
      "cell_type": "code",
      "source": [
        "print(max_words)\n",
        "print(max_words_id)"
      ],
      "metadata": {
        "colab": {
          "base_uri": "https://localhost:8080/"
        },
        "id": "6ijEQcWGx9X0",
        "outputId": "6b01bef4-1e01-4fc3-d629-7ed1376bd354"
      },
      "execution_count": 192,
      "outputs": [
        {
          "output_type": "stream",
          "name": "stdout",
          "text": [
            "4913\n",
            "854\n"
          ]
        }
      ]
    },
    {
      "cell_type": "code",
      "source": [
        "print(min_words)\n",
        "print(min_words_id)"
      ],
      "metadata": {
        "colab": {
          "base_uri": "https://localhost:8080/"
        },
        "id": "Lscw6Ztex_gX",
        "outputId": "228ec9b5-c799-42c9-cc15-153715517376"
      },
      "execution_count": 193,
      "outputs": [
        {
          "output_type": "stream",
          "name": "stdout",
          "text": [
            "0\n",
            "3\n"
          ]
        }
      ]
    },
    {
      "cell_type": "markdown",
      "source": [
        "**Problem 8**"
      ],
      "metadata": {
        "id": "WRz3dhZvyihz"
      }
    },
    {
      "cell_type": "code",
      "source": [
        "print(len(G.nodes) / len(G.edges))"
      ],
      "metadata": {
        "colab": {
          "base_uri": "https://localhost:8080/"
        },
        "id": "qNo_yU-E2va5",
        "outputId": "22404b7c-2e44-4c0e-e0b8-d8e03acd4fd4"
      },
      "execution_count": 206,
      "outputs": [
        {
          "output_type": "stream",
          "name": "stdout",
          "text": [
            "0.040522314049586776\n"
          ]
        }
      ]
    }
  ]
}